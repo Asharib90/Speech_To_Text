{
  "nbformat": 4,
  "nbformat_minor": 0,
  "metadata": {
    "colab": {
      "name": "SP_to_TXT_DL_with_FE.ipynb",
      "provenance": [],
      "collapsed_sections": [],
      "toc_visible": true
    },
    "kernelspec": {
      "display_name": "Python 3",
      "name": "python3"
    }
  },
  "cells": [
    {
      "cell_type": "markdown",
      "metadata": {
        "id": "XnNtQNrbqDf2"
      },
      "source": [
        "## Mount Drive"
      ]
    },
    {
      "cell_type": "code",
      "metadata": {
        "colab": {
          "base_uri": "https://localhost:8080/"
        },
        "id": "SlRdmwFNqCsG",
        "outputId": "af70da7d-65fb-4a47-eba3-8993ede356bd"
      },
      "source": [
        "from google.colab import drive\n",
        "drive.mount('/content/gdrive')"
      ],
      "execution_count": null,
      "outputs": [
        {
          "output_type": "stream",
          "text": [
            "Drive already mounted at /content/gdrive; to attempt to forcibly remount, call drive.mount(\"/content/gdrive\", force_remount=True).\n"
          ],
          "name": "stdout"
        }
      ]
    },
    {
      "cell_type": "code",
      "metadata": {
        "colab": {
          "base_uri": "https://localhost:8080/"
        },
        "id": "ZtM6URyLX5w1",
        "outputId": "ae33f4f0-9a31-4d84-c2f1-d40a5c70e97e"
      },
      "source": [
        "!pip install spafe"
      ],
      "execution_count": null,
      "outputs": [
        {
          "output_type": "stream",
          "text": [
            "Requirement already satisfied: spafe in /usr/local/lib/python3.6/dist-packages (0.1.2)\n",
            "Requirement already satisfied: numpy>=1.17.2 in /usr/local/lib/python3.6/dist-packages (from spafe) (1.19.4)\n",
            "Requirement already satisfied: scipy>=1.3.1 in /usr/local/lib/python3.6/dist-packages (from spafe) (1.4.1)\n"
          ],
          "name": "stdout"
        }
      ]
    },
    {
      "cell_type": "markdown",
      "metadata": {
        "id": "wchGdB3GX9_F"
      },
      "source": [
        "## Importing Libraries\n"
      ]
    },
    {
      "cell_type": "code",
      "metadata": {
        "colab": {
          "base_uri": "https://localhost:8080/"
        },
        "id": "QK_WMzclX1BL",
        "outputId": "76e0c0d3-cac9-405b-a784-19972d4938d9"
      },
      "source": [
        "import tensorflow as tf\n",
        "print(tf.__version__)\n",
        "\n",
        "import librosa\n",
        "import sys,os\n",
        "import numpy as np\n",
        "import pandas as pd\n",
        "import matplotlib.pyplot as plt\n",
        "\n",
        "from tensorflow.keras.applications import VGG16\n",
        "import sys,os\n",
        "from tensorflow.keras.layers import Dense, Dropout, Flatten, Conv1D, Input, MaxPooling1D , Concatenate\n",
        "from tensorflow.keras.models import Model\n",
        "from tensorflow.keras.callbacks import EarlyStopping, ModelCheckpoint\n",
        "from tensorflow.keras.applications import VGG16\n",
        "from tensorflow.keras.models import Sequential\n",
        "from tensorflow.keras.optimizers import Adam, RMSprop\n",
        "from tensorflow.keras.utils import to_categorical \n",
        "\n",
        "from sklearn.preprocessing import LabelEncoder\n",
        "from sklearn.model_selection import train_test_split\n",
        "\n",
        "%matplotlib inline"
      ],
      "execution_count": null,
      "outputs": [
        {
          "output_type": "stream",
          "text": [
            "2.4.0\n"
          ],
          "name": "stdout"
        }
      ]
    },
    {
      "cell_type": "markdown",
      "metadata": {
        "id": "hHDwGZRjYIFm"
      },
      "source": [
        "# Defining Features"
      ]
    },
    {
      "cell_type": "code",
      "metadata": {
        "id": "b5tEWOF6YCnA"
      },
      "source": [
        "def mfcc_feature(audio, sample_rate):\n",
        "    mfcc = librosa.feature.mfcc(y=audio, sr=sample_rate, n_mfcc=40)\n",
        " \n",
        "    return mfcc   # it returns a np.array with size (40,'n') where n is the number of audio frames.\n",
        "\n",
        "def melspectrogram_feature(audio, sample_rate):\n",
        "    melspectrogram = librosa.feature.melspectrogram(y=audio, sr=sample_rate, n_fft=2048)\n",
        " \n",
        "    return melspectrogram   # it returns a np.array with size (128,'n') where n is the number of audio frames.\n",
        "\n",
        "def poly_feature(audio, sample_rate):\n",
        "    poly_features = librosa.feature.poly_features(y=audio, sr=sample_rate, n_fft=2048)\n",
        " \n",
        "    return poly_features   # it returns a np.array with size (2,'n') where n is the number of audio frames.\n",
        "\n",
        "def zero_crossing_rate_features(audio):\n",
        "    zero_crossing_rate = librosa.feature.zero_crossing_rate(y=audio)\n",
        " \n",
        "    return zero_crossing_rate   # it returns a np.array with size (1,'n') where n is the number of audio frames.\n"
      ],
      "execution_count": null,
      "outputs": []
    },
    {
      "cell_type": "markdown",
      "metadata": {
        "id": "84NMCYsK5Aje"
      },
      "source": [
        "## Normalize Functions"
      ]
    },
    {
      "cell_type": "code",
      "metadata": {
        "id": "laZ885ga5JTq"
      },
      "source": [
        "def normalize_2d(v): \n",
        "  for i in range(v.shape[0]):\n",
        "    norm = np.linalg.norm(v[i]) \n",
        "    if norm == 0: \n",
        "      v[i]= v[i] \n",
        "    else:\n",
        "      v[i]= v[i] / norm\n",
        "  return v\n",
        "\n",
        "def normalize_1d(v): \n",
        "  norm = np.linalg.norm(v) \n",
        "  if norm == 0: \n",
        "    return v \n",
        "\n",
        "  return v / norm"
      ],
      "execution_count": null,
      "outputs": []
    },
    {
      "cell_type": "markdown",
      "metadata": {
        "id": "ScmEP-J1YIzq"
      },
      "source": [
        "# MP3 to Dataframe"
      ]
    },
    {
      "cell_type": "code",
      "metadata": {
        "colab": {
          "background_save": true,
          "base_uri": "https://localhost:8080/"
        },
        "id": "2bctu3LOX9Xn",
        "outputId": "50fd0a28-ebe4-4fe9-a62b-e0628f40cb52"
      },
      "source": [
        "import warnings\n",
        "warnings.filterwarnings('ignore')\n",
        "\n",
        "# setting the path where all file's folder are\n",
        "root = \"gdrive/MyDrive/word_data/kaggle_original_data/train/audio/\"\n",
        "\n",
        "Featured_data = pd.DataFrame(columns=['MFCC', 'Mel-scaled-spectrogram', 'Poly','ZCR','class'])              \n",
        "\n",
        "i = 0\n",
        "max_len = 300\n",
        "sample_rate = 16000\n",
        "no_of_samples = 800\n",
        "labels = ['bed', 'cat', 'down', 'left', 'no', 'right', 'seven', 'stop', 'yes', 'up']\n",
        "\n",
        "# Loading the features in the dataframe\n",
        "for label in labels:\n",
        "  \n",
        "  print(label)\n",
        "  folders = os.path.join(root,label)\n",
        "  items = os.listdir(folders)\n",
        "\n",
        "  for item in items[:no_of_samples]:\n",
        "    \n",
        "    path = os.path.join(folders,item)\n",
        "\n",
        "\n",
        "    #Convert .wave into array\n",
        "    samples, sample_rate=librosa.load(path ,sr=sample_rate)\n",
        "\n",
        "    #Extract Feautures\n",
        "    MFCC = mfcc_feature(samples , sample_rate)\n",
        "    MSS = melspectrogram_feature(samples , sample_rate)\n",
        "    poly = poly_feature(samples , sample_rate)\n",
        "    ZCR = zero_crossing_rate_features(samples) \n",
        "\n",
        "    #Normalizing\n",
        "    MFCC = normalize_2d(MFCC)\n",
        "\n",
        "    # zero-pad the mfccs features in order to have all compatible shapes for input of the CNN.\n",
        "    # max_pad_len is the biggest number of audio frames   \n",
        "    # obtained by extracting features from all the audio files.\n",
        "    \n",
        "    pad_width = max_len - MFCC.shape[1]\n",
        "    if pad_width > 0:\n",
        "      MFCC = np.pad(MFCC, pad_width=((0,0), (0, pad_width)), mode='constant')\n",
        "   \n",
        "    pad_width = max_len - MSS.shape[1]\n",
        "    if pad_width > 0:\n",
        "      MSS = np.pad(MSS, pad_width=((0,0), (0, pad_width)), mode='constant')\n",
        "      \n",
        "    pad_width = 1536 - poly.shape[1]\n",
        "    if pad_width > 0:\n",
        "      poly = np.pad(poly, pad_width=((0,0), (0, pad_width)), mode='constant')\n",
        "\n",
        "    pad_width = 3072 - ZCR.shape[1]\n",
        "    if pad_width > 0:\n",
        "      ZCR = np.pad(ZCR, pad_width=((0,0), (0, pad_width)), mode='constant')\n",
        "\n",
        "    #Trimming the array upto fix size\n",
        "\n",
        "    MFCC = MFCC[:,:max_len]\n",
        "    MSS = MSS[:,:max_len]\n",
        "    poly = poly[:,:1536]\n",
        "    ZCR = ZCR[:,:3072]\n",
        "    # Add to dataframe\n",
        "    Featured_data.loc[i] = [ MFCC,  MSS, poly, ZCR, label]\n",
        "\n",
        "    i += 1"
      ],
      "execution_count": null,
      "outputs": [
        {
          "output_type": "stream",
          "text": [
            "bed\n",
            "cat\n",
            "down\n",
            "left\n",
            "no\n",
            "right\n",
            "seven\n",
            "stop\n",
            "yes\n",
            "up\n"
          ],
          "name": "stdout"
        }
      ]
    },
    {
      "cell_type": "code",
      "metadata": {
        "colab": {
          "base_uri": "https://localhost:8080/",
          "height": 380
        },
        "id": "6qGLDCeMDp32",
        "outputId": "982933a4-8338-4498-eb2b-e96fa183b585"
      },
      "source": [
        "Featured_data.head()"
      ],
      "execution_count": null,
      "outputs": [
        {
          "output_type": "execute_result",
          "data": {
            "text/html": [
              "<div>\n",
              "<style scoped>\n",
              "    .dataframe tbody tr th:only-of-type {\n",
              "        vertical-align: middle;\n",
              "    }\n",
              "\n",
              "    .dataframe tbody tr th {\n",
              "        vertical-align: top;\n",
              "    }\n",
              "\n",
              "    .dataframe thead th {\n",
              "        text-align: right;\n",
              "    }\n",
              "</style>\n",
              "<table border=\"1\" class=\"dataframe\">\n",
              "  <thead>\n",
              "    <tr style=\"text-align: right;\">\n",
              "      <th></th>\n",
              "      <th>MFCC</th>\n",
              "      <th>Mel-scaled-spectrogram</th>\n",
              "      <th>Poly</th>\n",
              "      <th>ZCR</th>\n",
              "      <th>pitch</th>\n",
              "      <th>LPCC</th>\n",
              "      <th>RPLP</th>\n",
              "      <th>class</th>\n",
              "    </tr>\n",
              "  </thead>\n",
              "  <tbody>\n",
              "    <tr>\n",
              "      <th>0</th>\n",
              "      <td>[[-0.19713012389135587, -0.1945905536383745, -...</td>\n",
              "      <td>[[0.0001326223119728629, 0.0003938418726812632...</td>\n",
              "      <td>[[-2.9107745546378306e-06, -2.276604681310361e...</td>\n",
              "      <td>[[0.11376953125, 0.14794921875, 0.20556640625,...</td>\n",
              "      <td>[[0.0, 0.0, 0.0, 0.0, 0.0, 0.0, 0.0, 0.0, 0.0,...</td>\n",
              "      <td>[[-2.8603629233984336, -1.4728316731866917, -0...</td>\n",
              "      <td>[[-0.6558703204441466, -0.3993365324161662, -0...</td>\n",
              "      <td>bed</td>\n",
              "    </tr>\n",
              "    <tr>\n",
              "      <th>1</th>\n",
              "      <td>[[-0.2753804014193173, -0.2743249005224783, -0...</td>\n",
              "      <td>[[0.00018727586306803044, 4.8209101116233705e-...</td>\n",
              "      <td>[[-5.03670855138826e-06, -5.279823526322521e-0...</td>\n",
              "      <td>[[0.0869140625, 0.13623046875, 0.18701171875, ...</td>\n",
              "      <td>[[0.0, 0.0, 0.0, 0.0, 0.0, 0.0, 0.0, 0.0, 0.0,...</td>\n",
              "      <td>[[-2.8603629368672423, -1.4728316801219266, -0...</td>\n",
              "      <td>[[-0.6558703204441466, -0.3993365324161662, -0...</td>\n",
              "      <td>bed</td>\n",
              "    </tr>\n",
              "    <tr>\n",
              "      <th>2</th>\n",
              "      <td>[[-0.24450878886256341, -0.24450878886256341, ...</td>\n",
              "      <td>[[0.0, 0.0, 0.0, 0.0, 0.0, 9.383146488754954e-...</td>\n",
              "      <td>[[0.0, 0.0, 0.0, 0.0, 0.0, -4.111676586916924e...</td>\n",
              "      <td>[[0.0, 0.0, 0.0, 0.0, 0.0, 0.0029296875, 0.012...</td>\n",
              "      <td>[[0.0, 0.0, 0.0, 0.0, 0.0, 0.0, 0.0, 0.0, 0.0,...</td>\n",
              "      <td>[[-2.860362985281585, -1.472831705050993, -0.2...</td>\n",
              "      <td>[[-0.6558703204441466, -0.3993365324161662, -0...</td>\n",
              "      <td>bed</td>\n",
              "    </tr>\n",
              "    <tr>\n",
              "      <th>3</th>\n",
              "      <td>[[-0.19789257887175704, -0.19176426496606228, ...</td>\n",
              "      <td>[[0.011882200598090163, 0.009293751574537351, ...</td>\n",
              "      <td>[[4.4662728760687e-06, 2.6258644590753796e-06,...</td>\n",
              "      <td>[[0.1123046875, 0.15966796875, 0.1953125, 0.18...</td>\n",
              "      <td>[[0.0, 0.0, 0.0, 0.0, 0.0, 0.0, 0.0, 0.0, 0.0,...</td>\n",
              "      <td>[[-2.86036306482868, -1.4728317460106488, -0.2...</td>\n",
              "      <td>[[-0.6558703204441466, -0.3993365324161662, -0...</td>\n",
              "      <td>bed</td>\n",
              "    </tr>\n",
              "    <tr>\n",
              "      <th>4</th>\n",
              "      <td>[[-0.18748303586367043, -0.1949403284832351, -...</td>\n",
              "      <td>[[2.8792433556922997e-05, 8.247128168659806e-0...</td>\n",
              "      <td>[[-7.717891492684842e-06, -7.2206441119186415e...</td>\n",
              "      <td>[[0.03173828125, 0.04248046875, 0.04833984375,...</td>\n",
              "      <td>[[0.0, 0.0, 0.0, 0.0, 0.0, 0.0, 0.0, 0.0, 0.0,...</td>\n",
              "      <td>[[-2.8603629498162317, -1.4728316867895006, -0...</td>\n",
              "      <td>[[-0.6558703204441466, -0.3993365324161662, -0...</td>\n",
              "      <td>bed</td>\n",
              "    </tr>\n",
              "  </tbody>\n",
              "</table>\n",
              "</div>"
            ],
            "text/plain": [
              "                                                MFCC  ... class\n",
              "0  [[-0.19713012389135587, -0.1945905536383745, -...  ...   bed\n",
              "1  [[-0.2753804014193173, -0.2743249005224783, -0...  ...   bed\n",
              "2  [[-0.24450878886256341, -0.24450878886256341, ...  ...   bed\n",
              "3  [[-0.19789257887175704, -0.19176426496606228, ...  ...   bed\n",
              "4  [[-0.18748303586367043, -0.1949403284832351, -...  ...   bed\n",
              "\n",
              "[5 rows x 8 columns]"
            ]
          },
          "metadata": {
            "tags": []
          },
          "execution_count": 17
        }
      ]
    },
    {
      "cell_type": "code",
      "metadata": {
        "id": "ykGmw-OHE2ml"
      },
      "source": [
        "# np.set_printoptions(threshold=sys.maxsize)"
      ],
      "execution_count": null,
      "outputs": []
    },
    {
      "cell_type": "code",
      "metadata": {
        "id": "gWChchUNvfxJ"
      },
      "source": [
        "#Saving DataFrame into .CSV\n",
        "\n",
        "# Featured_data.to_csv('data.csv', index = False)"
      ],
      "execution_count": null,
      "outputs": []
    },
    {
      "cell_type": "markdown",
      "metadata": {
        "id": "i4iG8bwVEfYp"
      },
      "source": [
        "## Splitting into data ino test and train"
      ]
    },
    {
      "cell_type": "code",
      "metadata": {
        "colab": {
          "background_save": true
        },
        "id": "XhLyFBXIEsUR"
      },
      "source": [
        "Featured_data_train, Featured_data_test = train_test_split(Featured_data, random_state = 42, train_size = .80, shuffle=True,  stratify = Featured_data['class'].values)"
      ],
      "execution_count": null,
      "outputs": []
    },
    {
      "cell_type": "markdown",
      "metadata": {
        "id": "8H63a0Ag574k"
      },
      "source": [
        "## Converting dataframe columns into list"
      ]
    },
    {
      "cell_type": "code",
      "metadata": {
        "colab": {
          "background_save": true
        },
        "id": "ealGPg065rNw"
      },
      "source": [
        "# Train Features\n",
        "MFCC_train = np.array(Featured_data_train.MFCC.tolist())          \n",
        "MSS_train = np.array(Featured_data_train['Mel-scaled-spectrogram'].tolist())\n",
        "poly_train = np.array(Featured_data_train.Poly.tolist())\n",
        "ZCR_train = np.array(Featured_data_train.ZCR.tolist())\n",
        "\n",
        "# test Features\n",
        "MFCC_test = np.array(Featured_data_test.MFCC.tolist())          \n",
        "MSS_test = np.array(Featured_data_test['Mel-scaled-spectrogram'].tolist())\n",
        "poly_test = np.array(Featured_data_test.Poly.tolist())\n",
        "ZCR_test = np.array(Featured_data_test.ZCR.tolist())\n",
        "\n",
        "# Test Labels\n",
        "labels_test =np.array(Featured_data_test['class'].tolist())   \n",
        "\n",
        "# Train Labels\n",
        "labels_train =np.array(Featured_data_train['class'].tolist())   "
      ],
      "execution_count": null,
      "outputs": []
    },
    {
      "cell_type": "markdown",
      "metadata": {
        "id": "Dw3LfZEpAWq2"
      },
      "source": [
        "## Transform Lables"
      ]
    },
    {
      "cell_type": "code",
      "metadata": {
        "colab": {
          "background_save": true
        },
        "id": "amnzJkr_Aeq6"
      },
      "source": [
        "le = LabelEncoder()\n",
        "labels_train = to_categorical(le.fit_transform(labels_train)) \n",
        "labels_test = to_categorical(le.fit_transform(labels_test)) "
      ],
      "execution_count": null,
      "outputs": []
    },
    {
      "cell_type": "markdown",
      "metadata": {
        "id": "ckJTknSr6IT1"
      },
      "source": [
        "## Reshaping "
      ]
    },
    {
      "cell_type": "code",
      "metadata": {
        "colab": {
          "background_save": true
        },
        "id": "h_2WzTtntAKt"
      },
      "source": [
        "# Train Features\n",
        "\n",
        "MFCC_train = MFCC_train.reshape(MFCC_train.shape[0], 80,50,3)\n",
        "MSS_train = MSS_train.reshape(MSS_train.shape[0], 128, 100,3)\n",
        "poly_train = poly_train.reshape(poly_train.shape[0],32, 32,3)\n",
        "ZCR_train = ZCR_train.reshape(ZCR_train.shape[0], 32, 32,3)\n",
        "\n",
        "# Test Features\n",
        "\n",
        "MFCC_test = MFCC_test.reshape(MFCC_test.shape[0],80,50,3)  \n",
        "MSS_test = MSS_test.reshape(MSS_test.shape[0],128, 100,3)\n",
        "poly_test = poly_test.reshape(poly_test.shape[0], 32, 32,3)\n",
        "ZCR_test = ZCR_test.reshape(ZCR_test.shape[0], 32, 32,3)"
      ],
      "execution_count": null,
      "outputs": []
    },
    {
      "cell_type": "markdown",
      "metadata": {
        "id": "3HEQXpn5oWSM"
      },
      "source": [
        "## Modeling"
      ]
    },
    {
      "cell_type": "code",
      "metadata": {
        "id": "Y6kiYJHUDcJg"
      },
      "source": [
        "input_MFCC = Input(shape=(80,50,3), name='MFCC')\n",
        "input_MSS = Input(shape=(128, 100,3), name='MSS')\n",
        "input_poly = Input(shape=(32, 32,3), name='poly')\n",
        "input_ZCR = Input(shape=(32, 32,3), name='ZCR')\n",
        "\n",
        "def compute_wave_features(conv, nam=None):\n",
        "\n",
        "  conv_base = VGG16(weights='imagenet',\n",
        "                    include_top=False)\n",
        "  conv_base.trainable = False\n",
        "  conv_base._name = str(np.random.choice(5000))\n",
        "  \n",
        "  #First Conv1D layer\n",
        "  conv = conv_base(conv)\n",
        "  #Flatten layer\n",
        "  flatten = Flatten()(conv)\n",
        "\n",
        "  return flatten\n",
        "\n",
        "feature_MFCC = compute_wave_features(input_MFCC, 'feature_MFCC')\n",
        "feature_MSS = compute_wave_features(input_MSS, 'feature_MSS')\n",
        "feature_poly = compute_wave_features(input_poly, 'feature_poly')\n",
        "feature_ZCR = compute_wave_features(input_ZCR, 'feature_ZCR')\n",
        "\n",
        "features = Concatenate()([feature_MFCC,\n",
        "                          feature_MSS,\n",
        "                          feature_poly,\n",
        "                          feature_ZCR])\n",
        "\n",
        "features = Dense(32, activation='relu')(features)\n",
        "readout = Dense(10, activation='softmax', name='readout')(features)\n",
        "\n",
        "model = Model([input_MFCC,input_MSS,input_poly,input_ZCR], readout)\n",
        "model.summary()"
      ],
      "execution_count": null,
      "outputs": []
    },
    {
      "cell_type": "code",
      "metadata": {
        "id": "NKz3rpbXkqmS"
      },
      "source": [
        "model.compile(loss='categorical_crossentropy',optimizer='RMSprop' ,metrics=['accuracy'])"
      ],
      "execution_count": null,
      "outputs": []
    },
    {
      "cell_type": "code",
      "metadata": {
        "id": "tFiTco8xSXtk"
      },
      "source": [
        "class ActivationLogger(tf.keras.callbacks.Callback):\n",
        "  def set_model(self, model):\n",
        "    self.model = model\n",
        "    # serialize model to JSON\n",
        "    model_json = model.to_json()\n",
        "    with open(\"/content/gdrive/MyDrive/word_data/model_new.json\", \"w\") as json_file:\n",
        "        json_file.write(model_json)\n",
        "    # serialize weights to HDF5\n",
        "    model.save_weights(\"/content/gdrive/MyDrive/word_data/model_new.h5\")\n",
        "    print(\"Saved model to disk\")"
      ],
      "execution_count": null,
      "outputs": []
    },
    {
      "cell_type": "code",
      "metadata": {
        "colab": {
          "base_uri": "https://localhost:8080/"
        },
        "id": "y2zWEZ-inwia",
        "outputId": "818d6089-92cc-47c8-b769-f26185facc69"
      },
      "source": [
        "history=model.fit([MFCC_train, MSS_train,poly_train, ZCR_train], \n",
        "                  labels_train ,\n",
        "                  epochs=500,\n",
        "                  callbacks=[\n",
        "                             EarlyStopping(monitor='val_loss',\n",
        "                                             mode='min',\n",
        "                                             verbose=1,\n",
        "                                             patience=10,\n",
        "                                             min_delta=0.0001),\n",
        "                             ActivationLogger()],\n",
        "                  batch_size=42,\n",
        "                  validation_split=.17)"
      ],
      "execution_count": null,
      "outputs": [
        {
          "output_type": "stream",
          "text": [
            "Saved model to disk\n",
            "Epoch 1/500\n"
          ],
          "name": "stdout"
        }
      ]
    },
    {
      "cell_type": "code",
      "metadata": {
        "id": "3V8OXKaDb2S6"
      },
      "source": [
        "from keras.models import model_from_json\n",
        " # load json and create model\n",
        "json_file = open('/content/gdrive/MyDrive/word_data/model.json', 'r')\n",
        "loaded_model_json = json_file.read()\n",
        "json_file.close()\n",
        "loaded_model = model_from_json(loaded_model_json)\n",
        "# load weights into new model\n",
        "loaded_model.load_weights(\"/content/gdrive/MyDrive/word_data/model.h5\")\n",
        "\n",
        "# evaluate loaded model on test data\n",
        "loaded_model.compile(loss='categorical_crossentropy',optimizer=RMSprop(lr=2e-5),metrics=['accuracy'])"
      ],
      "execution_count": null,
      "outputs": []
    },
    {
      "cell_type": "code",
      "metadata": {
        "id": "QJsF-ZwPsgmo"
      },
      "source": [
        "history.history"
      ],
      "execution_count": null,
      "outputs": []
    },
    {
      "cell_type": "code",
      "metadata": {
        "id": "aBJ9aRRDthhf"
      },
      "source": [
        "acc = history.history['accuracy']\n",
        "val_acc = history.history['val_accuracy']\n",
        "loss = history.history['loss']\n",
        "val_loss = history.history['val_loss']\n",
        "epochs = range(1, len(acc) + 1)\n",
        "plt.plot(epochs, acc, 'ro', label='Training acc')\n",
        "plt.plot(epochs, val_acc, 'b', label='Validation acc')\n",
        "plt.title('Training and validation accuracy')\n",
        "plt.legend()\n",
        "plt.figure()\n",
        "plt.plot(epochs, loss, 'ro', label='Training loss')\n",
        "plt.plot(epochs, val_loss, 'b', label='Validation loss')\n",
        "plt.title('Training and validation loss')\n",
        "plt.legend()\n",
        "plt.show()"
      ],
      "execution_count": null,
      "outputs": []
    },
    {
      "cell_type": "code",
      "metadata": {
        "colab": {
          "base_uri": "https://localhost:8080/"
        },
        "id": "vdq8ZN4EsphG",
        "outputId": "ac30023a-fdef-4cb8-e486-7024d9bd4589"
      },
      "source": [
        "# Evaluate the model on the test data using `evaluate`\n",
        "print(\"Evaluate on test data\")\n",
        "test_loss, test_acc = model.evaluate([MFCC_test,MSS_test,poly_test, ZCR_test], labels_test, batch_size=32)\n",
        "print(\"test loss, test acc:\",test_loss )"
      ],
      "execution_count": null,
      "outputs": [
        {
          "output_type": "stream",
          "text": [
            "Evaluate on test data\n",
            "1/1 [==============================] - 4s 4s/step - loss: 2.7034 - accuracy: 0.1500\n",
            "test loss, test acc: 2.7033603191375732\n"
          ],
          "name": "stdout"
        }
      ]
    },
    {
      "cell_type": "code",
      "metadata": {
        "colab": {
          "base_uri": "https://localhost:8080/"
        },
        "id": "5EQaKUnngypM",
        "outputId": "2fe8f144-dee7-44b9-e806-d7d787531741"
      },
      "source": [
        "print(f'Accuracy {test_acc} \\nloss {test_loss}')"
      ],
      "execution_count": null,
      "outputs": [
        {
          "output_type": "stream",
          "text": [
            "Accuracy 0.15000000596046448 \n",
            "loss 2.7033603191375732\n"
          ],
          "name": "stdout"
        }
      ]
    },
    {
      "cell_type": "code",
      "metadata": {
        "id": "Wmwc3cSyh21t"
      },
      "source": [
        "  "
      ],
      "execution_count": null,
      "outputs": []
    }
  ]
}