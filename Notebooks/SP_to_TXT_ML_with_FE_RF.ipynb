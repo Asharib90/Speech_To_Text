{
  "nbformat": 4,
  "nbformat_minor": 0,
  "metadata": {
    "accelerator": "TPU",
    "colab": {
      "name": "SP_to_TXT_ML_with_FE.ipynb",
      "provenance": [],
      "collapsed_sections": []
    },
    "kernelspec": {
      "display_name": "Python 3",
      "name": "python3"
    }
  },
  "cells": [
    {
      "cell_type": "code",
      "metadata": {
        "colab": {
          "base_uri": "https://localhost:8080/"
        },
        "id": "JxtYdxxWK_t0",
        "outputId": "d3b179b6-3db3-42df-9c61-7d26d93bb5ee"
      },
      "source": [
        "from google.colab import drive\n",
        "\n",
        "drive.mount('/content/gdrive')"
      ],
      "execution_count": null,
      "outputs": [
        {
          "output_type": "stream",
          "text": [
            "Mounted at /content/gdrive\n"
          ],
          "name": "stdout"
        }
      ]
    },
    {
      "cell_type": "code",
      "metadata": {
        "colab": {
          "base_uri": "https://localhost:8080/"
        },
        "id": "rV7oomSCkNZ6",
        "outputId": "f116f63c-90b1-4f01-e482-03a9c292ce0d"
      },
      "source": [
        "!pip install spafe joblib"
      ],
      "execution_count": null,
      "outputs": [
        {
          "output_type": "stream",
          "text": [
            "Collecting spafe\n",
            "\u001b[?25l  Downloading https://files.pythonhosted.org/packages/a9/d9/d92807657a5125318639aa1636c0a76fb87222d48b5c290996ed9d5be1b6/spafe-0.1.2-py3-none-any.whl (77kB)\n",
            "\r\u001b[K     |████▎                           | 10kB 15.2MB/s eta 0:00:01\r\u001b[K     |████████▌                       | 20kB 19.2MB/s eta 0:00:01\r\u001b[K     |████████████▊                   | 30kB 7.0MB/s eta 0:00:01\r\u001b[K     |█████████████████               | 40kB 6.5MB/s eta 0:00:01\r\u001b[K     |█████████████████████▏          | 51kB 4.1MB/s eta 0:00:01\r\u001b[K     |█████████████████████████▍      | 61kB 4.7MB/s eta 0:00:01\r\u001b[K     |█████████████████████████████▋  | 71kB 4.7MB/s eta 0:00:01\r\u001b[K     |████████████████████████████████| 81kB 3.3MB/s \n",
            "\u001b[?25hRequirement already satisfied: joblib in /usr/local/lib/python3.6/dist-packages (1.0.0)\n",
            "Requirement already satisfied: numpy>=1.17.2 in /usr/local/lib/python3.6/dist-packages (from spafe) (1.19.4)\n",
            "Requirement already satisfied: scipy>=1.3.1 in /usr/local/lib/python3.6/dist-packages (from spafe) (1.4.1)\n",
            "Installing collected packages: spafe\n",
            "Successfully installed spafe-0.1.2\n"
          ],
          "name": "stdout"
        }
      ]
    },
    {
      "cell_type": "code",
      "metadata": {
        "id": "THvOXbiRLISv"
      },
      "source": [
        "#Importing Libraries\n",
        "import numpy as np\n",
        "import pandas as pd\n",
        "import os, sys\n",
        "import matplotlib.pyplot as plt\n",
        "import librosa\n",
        "\n",
        "from spafe.features.lpc import lpc, lpcc\n",
        "from spafe.features.rplp import rplp, plp\n",
        "\n",
        "from sklearn.preprocessing import LabelEncoder\n",
        "from sklearn.neighbors import KNeighborsClassifier\n",
        "from sklearn.model_selection import train_test_split\n",
        "from sklearn.model_selection import cross_val_score\n",
        "from sklearn.metrics import confusion_matrix\n",
        "from sklearn.metrics import accuracy_score\n",
        "from sklearn import metrics\n",
        "\n",
        "from sklearn import preprocessing\n",
        "\n",
        "from sklearn.ensemble import RandomForestClassifier\n",
        "import warnings\n",
        "import joblib\n",
        "import seaborn as sns\n"
      ],
      "execution_count": null,
      "outputs": []
    },
    {
      "cell_type": "code",
      "metadata": {
        "id": "3EpBK8ZBLU9b"
      },
      "source": [
        "def mfcc_feature(audio, sample_rate):\n",
        "    mfcc = librosa.feature.mfcc(y=audio, sr=sample_rate, n_mfcc=40)\n",
        " \n",
        "    return mfcc   # it returns a np.array with size (40,'n') where n is the number of audio frames.\n",
        "\n",
        "def melspectrogram_feature(audio, sample_rate):\n",
        "    melspectrogram = librosa.feature.melspectrogram(y=audio, sr=sample_rate, n_fft=2048)\n",
        " \n",
        "    return melspectrogram   # it returns a np.array with size (128,'n') where n is the number of audio frames.\n",
        "\n",
        "def poly_feature(audio, sample_rate):\n",
        "    poly_features = librosa.feature.poly_features(y=audio, sr=sample_rate, n_fft=2048)\n",
        " \n",
        "    return poly_features   # it returns a np.array with size (2,'n') where n is the number of audio frames.\n",
        "\n",
        "def zero_crossing_rate_features(audio):\n",
        "    zero_crossing_rate = librosa.feature.zero_crossing_rate(y=audio)\n",
        " \n",
        "    return zero_crossing_rate   # it returns a np.array with size (1,'n') where n is the number of audio frames.\n",
        "\n",
        "def lpcc_feature(audio, sample_rate):\n",
        "  # compute lpccs\n",
        "  lifter = 0\n",
        "  normalize = True\n",
        "  lpccs = lpcc(sig=audio, fs=sample_rate, num_ceps=13, lifter=lifter, normalize=normalize) \n",
        "  return lpccs   # it returns a np.array with size ('n',13) where n is the number of audio frames.\n",
        "\n",
        "def RPLP_feature(audio, sample_rate):\n",
        "    num_ceps = 13\n",
        "    # compute features\n",
        "    rplps = rplp(audio, sample_rate, num_ceps)\n",
        "    return rplps  # it returns a np.array with size ('n',13) where n is the number of audio frames.\n",
        "\n",
        "def pitch_feature(audio, sample_rate):\n",
        "  pitches, magnitudes = librosa.core.piptrack(audio, sr=16000, fmin=75, fmax=1600)\n",
        "  return pitches[:200,:] # it returns a np.array with size (200,'n') where n is the number of audio frames."
      ],
      "execution_count": null,
      "outputs": []
    },
    {
      "cell_type": "code",
      "metadata": {
        "id": "M65IuSE9LYGn"
      },
      "source": [
        "def normalize(data):\n",
        "  data = (data-min(data))/(max(data)-min(data))\n",
        "  \n",
        "  return data"
      ],
      "execution_count": null,
      "outputs": []
    },
    {
      "cell_type": "code",
      "metadata": {
        "colab": {
          "background_save": true,
          "base_uri": "https://localhost:8080/"
        },
        "id": "HFaLqCB0LZlN",
        "outputId": "7cd9b065-0bbc-4bc9-ffbf-44413756bc9e"
      },
      "source": [
        "warnings.filterwarnings('ignore')\n",
        "\n",
        "# setting the path where all file's folder are\n",
        "root = \"gdrive/MyDrive/word_data/kaggle_original_data/train/audio/\"\n",
        "\n",
        "Features_data = pd.DataFrame(columns=['features','class']) \n",
        "\n",
        "i = 0\n",
        "sample_rate = 16000 \n",
        "no_of_samples = 3000\n",
        "labels = ['bed', 'cat', 'down', 'left', 'no', 'right', 'seven', 'stop', 'yes', 'up']\n",
        "\n",
        "# Loading the features in the dataframe\n",
        "for label in labels:\n",
        "  \n",
        "  print(label)\n",
        "  folders = os.path.join(root,label)\n",
        "  items = os.listdir(folders)\n",
        "\n",
        "  for item in items[:no_of_samples]:\n",
        "\n",
        "    path = os.path.join(folders,item)\n",
        "\n",
        "    #Convert .wave into array\n",
        "    samples, sample_rate=librosa.load(path ,sr=sample_rate)\n",
        "\n",
        "    #Extract Feautures\n",
        "    MFCC = mfcc_feature(samples , sample_rate)\n",
        "    MSS = melspectrogram_feature(samples , sample_rate)\n",
        "    poly = poly_feature(samples , sample_rate)\n",
        "    ZCR = zero_crossing_rate_features(samples) \n",
        "\n",
        "    # flatten an array\n",
        "    MFCC = MFCC.flatten()\n",
        "    MSS = MSS.flatten()\n",
        "    poly = poly.flatten()\n",
        "    ZCR = ZCR.flatten()\n",
        "\n",
        "    # normalizing\n",
        "    # MFCC = normalize(MFCC)\n",
        "\n",
        "    features = np.concatenate(( MFCC ,MSS, poly, ZCR))\n",
        "\n",
        "    # padding and trimming\n",
        "    max_len = 6000\n",
        "\n",
        "    pad_width = max_len - features.shape[0]\n",
        "    if pad_width > 0:\n",
        "      features = np.pad(features, pad_width=((0, pad_width)), mode='constant')\n",
        "\n",
        "    features = features[:max_len]\n",
        "\n",
        "    Features_data.loc[i] =[features, label]\n",
        "    i += 1"
      ],
      "execution_count": null,
      "outputs": [
        {
          "output_type": "stream",
          "text": [
            "bed\n",
            "cat\n",
            "down\n",
            "left\n",
            "no\n",
            "right\n",
            "seven\n",
            "stop\n",
            "yes\n",
            "up\n"
          ],
          "name": "stdout"
        }
      ]
    },
    {
      "cell_type": "code",
      "metadata": {
        "id": "BgpOwPOXr8El"
      },
      "source": [
        "np.set_printoptions(threshold=sys.maxsize)"
      ],
      "execution_count": null,
      "outputs": []
    },
    {
      "cell_type": "code",
      "metadata": {
        "id": "CQ9rEYi83koZ"
      },
      "source": [
        "#Saving DataFrame into .CSV\n",
        "\n",
        "Features_data.to_csv('gdrive/MyDrive/word_data/ML_data_500.csv', index = False)"
      ],
      "execution_count": null,
      "outputs": []
    },
    {
      "cell_type": "code",
      "metadata": {
        "id": "oamurLbPHFzx"
      },
      "source": [
        "Features_data = pd.read_csv('gdrive/MyDrive/word_data/ML_data_500.csv')"
      ],
      "execution_count": null,
      "outputs": []
    },
    {
      "cell_type": "code",
      "metadata": {
        "colab": {
          "background_save": true
        },
        "id": "QI49MeEeHLUK"
      },
      "source": [
        "feature=np.array(Features_data['features'].tolist())\n",
        "target = Features_data.iloc[:,-1]\n",
        "\n",
        "# converting labels into numeric\n",
        "le = preprocessing.LabelEncoder()\n",
        "target=le.fit_transform(target)\n",
        "\n",
        "# features = preprocessing.MinMaxScaler().fit_transform(features)\n",
        "feature_train, feature_test, target_train, target_test = train_test_split(feature,target)"
      ],
      "execution_count": null,
      "outputs": []
    },
    {
      "cell_type": "code",
      "metadata": {
        "colab": {
          "base_uri": "https://localhost:8080/"
        },
        "id": "_Q5eyzBBHLfp",
        "outputId": "b163eb7f-904c-4080-80ef-df351db39883"
      },
      "source": [
        "#Create a Gaussian Classifier\n",
        "clff=RandomForestClassifier(n_estimators=800)\n",
        "\n",
        "#Train the model using the training sets y_pred=clf.predict(X_test)\n",
        "clff = clff.fit(feature_train,target_train)\n",
        "\n",
        "y_predd=clff.predict(feature_test)\n",
        "\n",
        "# Model Accuracy, how often is the classifier correct?\n",
        "print(\"Accuracy:\",metrics.accuracy_score(target_test, y_predd))"
      ],
      "execution_count": null,
      "outputs": [
        {
          "output_type": "stream",
          "text": [
            "Accuracy: 0.7387114046046761\n"
          ],
          "name": "stdout"
        }
      ]
    },
    {
      "cell_type": "code",
      "metadata": {
        "colab": {
          "base_uri": "https://localhost:8080/",
          "height": 283
        },
        "id": "2bat2J4NHTG9",
        "outputId": "16ef4f0d-9989-4f85-f604-1f40d3143540"
      },
      "source": [
        "sns.heatmap(confusion_matrix(target_test,y_predd), annot=True, cmap='Blues')"
      ],
      "execution_count": null,
      "outputs": [
        {
          "output_type": "execute_result",
          "data": {
            "text/plain": [
              "<matplotlib.axes._subplots.AxesSubplot at 0x7f067c208828>"
            ]
          },
          "metadata": {
            "tags": []
          },
          "execution_count": 21
        },
        {
          "output_type": "display_data",
          "data": {
            "image/png": "[encoded data removed]",
            "text/plain": [
              "<Figure size 432x288 with 2 Axes>"
            ]
          },
          "metadata": {
            "tags": [],
            "needs_background": "light"
          }
        }
      ]
    },
    {
      "cell_type": "code",
      "metadata": {
        "colab": {
          "base_uri": "https://localhost:8080/"
        },
        "id": "b6VT9wdPdrJZ",
        "outputId": "ff9d4d55-d873-4547-dd71-f5272efc1af9"
      },
      "source": [
        "model_path = 'gdrive/MyDrive/word_data/'\n",
        "joblib.dump(clff, model_path+\"model_3000.sav\")"
      ],
      "execution_count": null,
      "outputs": [
        {
          "output_type": "execute_result",
          "data": {
            "text/plain": [
              "['gdrive/MyDrive/word_data/model_3000.sav']"
            ]
          },
          "metadata": {
            "tags": []
          },
          "execution_count": 20
        }
      ]
    },
    {
      "cell_type": "code",
      "metadata": {
        "id": "9LaO0Pl9VUHD"
      },
      "source": [
        ""
      ],
      "execution_count": null,
      "outputs": []
    }
  ]
}